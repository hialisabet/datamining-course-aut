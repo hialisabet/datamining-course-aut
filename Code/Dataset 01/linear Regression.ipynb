{
 "cells": [
  {
   "cell_type": "code",
   "execution_count": 12,
   "metadata": {},
   "outputs": [],
   "source": [
    "import pandas as pd\n",
    "import numpy as np\n",
    "import matplotlib.pyplot as plt\n",
    "import seaborn as sns\n",
    "from sklearn.impute import KNNImputer\n",
    "from sklearn.preprocessing import LabelEncoder, OneHotEncoder\n",
    "from sklearn.preprocessing import StandardScaler\n",
    "from scipy import stats\n",
    "%matplotlib inline"
   ]
  },
  {
   "cell_type": "code",
   "execution_count": 2,
   "metadata": {},
   "outputs": [],
   "source": [
    "#prepare data\n",
    "data = pd.read_csv('_Datapreprocessing.csv', skiprows = 2, sep=\",\") #remove 2 rows\n",
    "data.drop('1', axis = 1, inplace = True)"
   ]
  },
  {
   "cell_type": "code",
   "execution_count": 3,
   "metadata": {},
   "outputs": [],
   "source": [
    "#y label for regression\n",
    "x = data.iloc[:, 1:6]\n",
    "y = data.iloc[:, 6]"
   ]
  },
  {
   "cell_type": "code",
   "execution_count": 6,
   "metadata": {},
   "outputs": [],
   "source": [
    "#for missing values\n",
    "imputerr = KNNImputer(n_neighbors = 2)\n",
    "x.iloc[:, 1:4] = imputerr.fit_transform(data.iloc[:, 2:5])"
   ]
  },
  {
   "cell_type": "code",
   "execution_count": 7,
   "metadata": {},
   "outputs": [],
   "source": [
    "#the whole data\n",
    "pd.DataFrame(x)\n",
    "pd.DataFrame(y)\n",
    "not_nan_data = x.join(y)"
   ]
  },
  {
   "cell_type": "code",
   "execution_count": 8,
   "metadata": {},
   "outputs": [],
   "source": [
    "#for string data\n",
    "label = LabelEncoder()\n",
    "not_nan_data['CountryCode'] = label.fit_transform(not_nan_data['CountryCode'] )"
   ]
  },
  {
   "cell_type": "code",
   "execution_count": 9,
   "metadata": {},
   "outputs": [],
   "source": [
    "#for categorical data\n",
    "not_categorical_data = pd.get_dummies(not_nan_data)\n",
    "not_categorical_data.drop(['International Visitors_D'], axis=1, inplace=True)"
   ]
  },
  {
   "cell_type": "code",
   "execution_count": 10,
   "metadata": {},
   "outputs": [],
   "source": [
    "#for feature scaling\n",
    "x_1 = pd.DataFrame(not_categorical_data.iloc[:, 0])\n",
    "x_2 = not_categorical_data.iloc[:, 1:4]  #features need scaling\n",
    "x_3 =  pd.DataFrame(not_categorical_data.iloc[:, 5:8])\n",
    "y =  pd.DataFrame(not_categorical_data.iloc[:, 4])\n",
    "transformer = StandardScaler()\n",
    "d = transformer.fit_transform(x_2)\n",
    "x_2_new = pd.DataFrame(d)\n",
    "x_2_new.rename(columns={0:'Population growth', 1:'Total population', 2:'Area (sq. km)'}, inplace= True)"
   ]
  },
  {
   "cell_type": "code",
   "execution_count": 11,
   "metadata": {},
   "outputs": [],
   "source": [
    "#whole data\n",
    "data_feature_saling = x_1.join(x_2_new.join(x_3.join(y)))"
   ]
  },
  {
   "cell_type": "code",
   "execution_count": 13,
   "metadata": {},
   "outputs": [],
   "source": [
    "#outlier\n",
    "z = np.abs(stats.zscore(data_feature_saling))\n",
    "data_outlier = data_feature_saling[(z < 3).all(axis = 1)]"
   ]
  },
  {
   "cell_type": "code",
   "execution_count": 14,
   "metadata": {},
   "outputs": [
    {
     "data": {
      "text/html": [
       "<div>\n",
       "<style scoped>\n",
       "    .dataframe tbody tr th:only-of-type {\n",
       "        vertical-align: middle;\n",
       "    }\n",
       "\n",
       "    .dataframe tbody tr th {\n",
       "        vertical-align: top;\n",
       "    }\n",
       "\n",
       "    .dataframe thead th {\n",
       "        text-align: right;\n",
       "    }\n",
       "</style>\n",
       "<table border=\"1\" class=\"dataframe\">\n",
       "  <thead>\n",
       "    <tr style=\"text-align: right;\">\n",
       "      <th></th>\n",
       "      <th>CountryCode</th>\n",
       "      <th>Population growth</th>\n",
       "      <th>Total population</th>\n",
       "      <th>Area (sq. km)</th>\n",
       "      <th>International Visitors_A</th>\n",
       "      <th>International Visitors_B</th>\n",
       "      <th>International Visitors_C</th>\n",
       "      <th>Coronavirus Cases</th>\n",
       "    </tr>\n",
       "  </thead>\n",
       "  <tbody>\n",
       "    <tr>\n",
       "      <th>1</th>\n",
       "      <td>1</td>\n",
       "      <td>0.047911</td>\n",
       "      <td>-0.430316</td>\n",
       "      <td>-0.518157</td>\n",
       "      <td>0</td>\n",
       "      <td>1</td>\n",
       "      <td>0</td>\n",
       "      <td>29061</td>\n",
       "    </tr>\n",
       "    <tr>\n",
       "      <th>2</th>\n",
       "      <td>2</td>\n",
       "      <td>0.150608</td>\n",
       "      <td>-0.198941</td>\n",
       "      <td>-0.369191</td>\n",
       "      <td>1</td>\n",
       "      <td>0</td>\n",
       "      <td>0</td>\n",
       "      <td>156727</td>\n",
       "    </tr>\n",
       "    <tr>\n",
       "      <th>3</th>\n",
       "      <td>3</td>\n",
       "      <td>-0.165666</td>\n",
       "      <td>-0.437042</td>\n",
       "      <td>-0.516835</td>\n",
       "      <td>0</td>\n",
       "      <td>1</td>\n",
       "      <td>0</td>\n",
       "      <td>8575</td>\n",
       "    </tr>\n",
       "    <tr>\n",
       "      <th>4</th>\n",
       "      <td>4</td>\n",
       "      <td>-0.907588</td>\n",
       "      <td>-0.311750</td>\n",
       "      <td>-0.296336</td>\n",
       "      <td>1</td>\n",
       "      <td>0</td>\n",
       "      <td>0</td>\n",
       "      <td>223759</td>\n",
       "    </tr>\n",
       "    <tr>\n",
       "      <th>5</th>\n",
       "      <td>5</td>\n",
       "      <td>-0.541737</td>\n",
       "      <td>-0.248057</td>\n",
       "      <td>-0.273539</td>\n",
       "      <td>1</td>\n",
       "      <td>0</td>\n",
       "      <td>0</td>\n",
       "      <td>161488</td>\n",
       "    </tr>\n",
       "    <tr>\n",
       "      <th>6</th>\n",
       "      <td>9</td>\n",
       "      <td>-1.002001</td>\n",
       "      <td>-0.060896</td>\n",
       "      <td>-0.361651</td>\n",
       "      <td>0</td>\n",
       "      <td>1</td>\n",
       "      <td>0</td>\n",
       "      <td>13231</td>\n",
       "    </tr>\n",
       "    <tr>\n",
       "      <th>7</th>\n",
       "      <td>6</td>\n",
       "      <td>-1.505832</td>\n",
       "      <td>-0.422920</td>\n",
       "      <td>-0.475120</td>\n",
       "      <td>0</td>\n",
       "      <td>0</td>\n",
       "      <td>1</td>\n",
       "      <td>2506</td>\n",
       "    </tr>\n",
       "    <tr>\n",
       "      <th>8</th>\n",
       "      <td>8</td>\n",
       "      <td>0.110920</td>\n",
       "      <td>-0.206385</td>\n",
       "      <td>0.247054</td>\n",
       "      <td>0</td>\n",
       "      <td>0</td>\n",
       "      <td>0</td>\n",
       "      <td>90481</td>\n",
       "    </tr>\n",
       "    <tr>\n",
       "      <th>9</th>\n",
       "      <td>10</td>\n",
       "      <td>1.674043</td>\n",
       "      <td>-0.443768</td>\n",
       "      <td>-0.524215</td>\n",
       "      <td>0</td>\n",
       "      <td>0</td>\n",
       "      <td>1</td>\n",
       "      <td>3075</td>\n",
       "    </tr>\n",
       "    <tr>\n",
       "      <th>10</th>\n",
       "      <td>11</td>\n",
       "      <td>-0.536627</td>\n",
       "      <td>-0.346528</td>\n",
       "      <td>-0.322293</td>\n",
       "      <td>0</td>\n",
       "      <td>0</td>\n",
       "      <td>1</td>\n",
       "      <td>4047</td>\n",
       "    </tr>\n",
       "    <tr>\n",
       "      <th>11</th>\n",
       "      <td>12</td>\n",
       "      <td>1.405361</td>\n",
       "      <td>0.122830</td>\n",
       "      <td>-0.098654</td>\n",
       "      <td>0</td>\n",
       "      <td>0</td>\n",
       "      <td>0</td>\n",
       "      <td>1182</td>\n",
       "    </tr>\n",
       "    <tr>\n",
       "      <th>12</th>\n",
       "      <td>13</td>\n",
       "      <td>2.176646</td>\n",
       "      <td>-0.448386</td>\n",
       "      <td>-0.531594</td>\n",
       "      <td>0</td>\n",
       "      <td>1</td>\n",
       "      <td>0</td>\n",
       "      <td>10287</td>\n",
       "    </tr>\n",
       "    <tr>\n",
       "      <th>13</th>\n",
       "      <td>14</td>\n",
       "      <td>-0.835749</td>\n",
       "      <td>-0.425548</td>\n",
       "      <td>-0.341067</td>\n",
       "      <td>0</td>\n",
       "      <td>0</td>\n",
       "      <td>1</td>\n",
       "      <td>18640</td>\n",
       "    </tr>\n",
       "  </tbody>\n",
       "</table>\n",
       "</div>"
      ],
      "text/plain": [
       "    CountryCode  Population growth  Total population  Area (sq. km)  \\\n",
       "1             1           0.047911         -0.430316      -0.518157   \n",
       "2             2           0.150608         -0.198941      -0.369191   \n",
       "3             3          -0.165666         -0.437042      -0.516835   \n",
       "4             4          -0.907588         -0.311750      -0.296336   \n",
       "5             5          -0.541737         -0.248057      -0.273539   \n",
       "6             9          -1.002001         -0.060896      -0.361651   \n",
       "7             6          -1.505832         -0.422920      -0.475120   \n",
       "8             8           0.110920         -0.206385       0.247054   \n",
       "9            10           1.674043         -0.443768      -0.524215   \n",
       "10           11          -0.536627         -0.346528      -0.322293   \n",
       "11           12           1.405361          0.122830      -0.098654   \n",
       "12           13           2.176646         -0.448386      -0.531594   \n",
       "13           14          -0.835749         -0.425548      -0.341067   \n",
       "\n",
       "    International Visitors_A  International Visitors_B  \\\n",
       "1                          0                         1   \n",
       "2                          1                         0   \n",
       "3                          0                         1   \n",
       "4                          1                         0   \n",
       "5                          1                         0   \n",
       "6                          0                         1   \n",
       "7                          0                         0   \n",
       "8                          0                         0   \n",
       "9                          0                         0   \n",
       "10                         0                         0   \n",
       "11                         0                         0   \n",
       "12                         0                         1   \n",
       "13                         0                         0   \n",
       "\n",
       "    International Visitors_C  Coronavirus Cases  \n",
       "1                          0              29061  \n",
       "2                          0             156727  \n",
       "3                          0               8575  \n",
       "4                          0             223759  \n",
       "5                          0             161488  \n",
       "6                          0              13231  \n",
       "7                          1               2506  \n",
       "8                          0              90481  \n",
       "9                          1               3075  \n",
       "10                         1               4047  \n",
       "11                         0               1182  \n",
       "12                         0              10287  \n",
       "13                         1              18640  "
      ]
     },
     "execution_count": 14,
     "metadata": {},
     "output_type": "execute_result"
    }
   ],
   "source": [
    "data_outlier"
   ]
  },
  {
   "cell_type": "markdown",
   "metadata": {},
   "source": [
    "## Exploratory Data Analysis (EDA)"
   ]
  },
  {
   "cell_type": "code",
   "execution_count": 16,
   "metadata": {},
   "outputs": [
    {
     "data": {
      "text/plain": [
       "<seaborn.axisgrid.PairGrid at 0x1fd107450c8>"
      ]
     },
     "execution_count": 16,
     "metadata": {},
     "output_type": "execute_result"
    },
    {
     "data": {
      "image/png": "[encoded data removed]",
      "text/plain": [
       "<Figure size 1440x1440 with 72 Axes>"
      ]
     },
     "metadata": {
      "needs_background": "light"
     },
     "output_type": "display_data"
    }
   ],
   "source": [
    "sns.pairplot(data_outlier) #scatter plot matrix\n",
    "#namayesh hambastgi bein vizhegi ha . histogram va scatter plote"
   ]
  },
  {
   "cell_type": "code",
   "execution_count": 17,
   "metadata": {},
   "outputs": [
    {
     "data": {
      "text/plain": [
       "<matplotlib.axes._subplots.AxesSubplot at 0x1fd140efd88>"
      ]
     },
     "execution_count": 17,
     "metadata": {},
     "output_type": "execute_result"
    },
    {
     "data": {
      "image/png": "[encoded data removed]",
      "text/plain": [
       "<Figure size 432x288 with 1 Axes>"
      ]
     },
     "metadata": {
      "needs_background": "light"
     },
     "output_type": "display_data"
    }
   ],
   "source": [
    "sns.distplot(data_outlier['Coronavirus Cases'])"
   ]
  },
  {
   "cell_type": "code",
   "execution_count": 18,
   "metadata": {},
   "outputs": [
    {
     "data": {
      "text/plain": [
       "<matplotlib.axes._subplots.AxesSubplot at 0x1fd159c2c48>"
      ]
     },
     "execution_count": 18,
     "metadata": {},
     "output_type": "execute_result"
    },
    {
     "data": {
      "image/png": "[encoded data removed]",
      "text/plain": [
       "<Figure size 432x288 with 2 Axes>"
      ]
     },
     "metadata": {
      "needs_background": "light"
     },
     "output_type": "display_data"
    }
   ],
   "source": [
    "sns.heatmap(data_outlier.corr())"
   ]
  },
  {
   "cell_type": "markdown",
   "metadata": {},
   "source": [
    "## simple linear regression"
   ]
  },
  {
   "cell_type": "code",
   "execution_count": 33,
   "metadata": {},
   "outputs": [
    {
     "data": {
      "text/plain": [
       "1      29061\n",
       "2     156727\n",
       "3       8575\n",
       "4     223759\n",
       "5     161488\n",
       "6      13231\n",
       "7       2506\n",
       "8      90481\n",
       "9       3075\n",
       "10      4047\n",
       "11      1182\n",
       "12     10287\n",
       "13     18640\n",
       "Name: Coronavirus Cases, dtype: int64"
      ]
     },
     "execution_count": 33,
     "metadata": {},
     "output_type": "execute_result"
    }
   ],
   "source": [
    "x = data_outlier.iloc[:, 0:7]\n",
    "y = data_outlier.iloc[:, 7]\n",
    "y"
   ]
  },
  {
   "cell_type": "markdown",
   "metadata": {},
   "source": [
    "## train test split"
   ]
  },
  {
   "cell_type": "code",
   "execution_count": 23,
   "metadata": {},
   "outputs": [],
   "source": [
    "from sklearn.model_selection import train_test_split"
   ]
  },
  {
   "cell_type": "code",
   "execution_count": 35,
   "metadata": {},
   "outputs": [],
   "source": [
    "# x_train, x_test, y_train, y_test = train_test_split(x, y, test_size = 0.1)"
   ]
  },
  {
   "cell_type": "markdown",
   "metadata": {},
   "source": [
    "## Train model"
   ]
  },
  {
   "cell_type": "code",
   "execution_count": 36,
   "metadata": {},
   "outputs": [],
   "source": [
    "from sklearn.linear_model import LinearRegression"
   ]
  },
  {
   "cell_type": "code",
   "execution_count": 37,
   "metadata": {},
   "outputs": [
    {
     "data": {
      "text/plain": [
       "LinearRegression(copy_X=True, fit_intercept=True, n_jobs=None, normalize=False)"
      ]
     },
     "execution_count": 37,
     "metadata": {},
     "output_type": "execute_result"
    }
   ],
   "source": [
    "lm = LinearRegression()\n",
    "lm.fit(x, y)\n"
   ]
  },
  {
   "cell_type": "code",
   "execution_count": 38,
   "metadata": {},
   "outputs": [
    {
     "data": {
      "text/plain": [
       "34810.7253468937"
      ]
     },
     "execution_count": 38,
     "metadata": {},
     "output_type": "execute_result"
    }
   ],
   "source": [
    "lm.intercept_"
   ]
  },
  {
   "cell_type": "code",
   "execution_count": 39,
   "metadata": {},
   "outputs": [
    {
     "data": {
      "text/plain": [
       "array([-1.46443594e+01, -3.90994143e+03, -1.14065704e+05,  1.26228252e+05,\n",
       "        1.54871492e+05,  3.19875291e+03, -2.30325997e+04])"
      ]
     },
     "execution_count": 39,
     "metadata": {},
     "output_type": "execute_result"
    }
   ],
   "source": [
    "lm.coef_"
   ]
  },
  {
   "cell_type": "code",
   "execution_count": 51,
   "metadata": {},
   "outputs": [
    {
     "data": {
      "text/html": [
       "<div>\n",
       "<style scoped>\n",
       "    .dataframe tbody tr th:only-of-type {\n",
       "        vertical-align: middle;\n",
       "    }\n",
       "\n",
       "    .dataframe tbody tr th {\n",
       "        vertical-align: top;\n",
       "    }\n",
       "\n",
       "    .dataframe thead th {\n",
       "        text-align: right;\n",
       "    }\n",
       "</style>\n",
       "<table border=\"1\" class=\"dataframe\">\n",
       "  <thead>\n",
       "    <tr style=\"text-align: right;\">\n",
       "      <th></th>\n",
       "      <th>Coefficient</th>\n",
       "    </tr>\n",
       "  </thead>\n",
       "  <tbody>\n",
       "    <tr>\n",
       "      <th>CountryCode</th>\n",
       "      <td>-14.644359</td>\n",
       "    </tr>\n",
       "    <tr>\n",
       "      <th>Population growth</th>\n",
       "      <td>-3909.941425</td>\n",
       "    </tr>\n",
       "    <tr>\n",
       "      <th>Total population</th>\n",
       "      <td>-114065.704103</td>\n",
       "    </tr>\n",
       "    <tr>\n",
       "      <th>Area (sq. km)</th>\n",
       "      <td>126228.251759</td>\n",
       "    </tr>\n",
       "    <tr>\n",
       "      <th>International Visitors_A</th>\n",
       "      <td>154871.492211</td>\n",
       "    </tr>\n",
       "    <tr>\n",
       "      <th>International Visitors_B</th>\n",
       "      <td>3198.752906</td>\n",
       "    </tr>\n",
       "    <tr>\n",
       "      <th>International Visitors_C</th>\n",
       "      <td>-23032.599688</td>\n",
       "    </tr>\n",
       "  </tbody>\n",
       "</table>\n",
       "</div>"
      ],
      "text/plain": [
       "                            Coefficient\n",
       "CountryCode                  -14.644359\n",
       "Population growth          -3909.941425\n",
       "Total population         -114065.704103\n",
       "Area (sq. km)             126228.251759\n",
       "International Visitors_A  154871.492211\n",
       "International Visitors_B    3198.752906\n",
       "International Visitors_C  -23032.599688"
      ]
     },
     "execution_count": 51,
     "metadata": {},
     "output_type": "execute_result"
    }
   ],
   "source": [
    "coef_data = pd.DataFrame(lm.coef_, x.columns, columns=['Coefficient'])\n",
    "coef_data"
   ]
  },
  {
   "cell_type": "markdown",
   "metadata": {},
   "source": [
    "## prediction"
   ]
  },
  {
   "cell_type": "code",
   "execution_count": 41,
   "metadata": {},
   "outputs": [
    {
     "data": {
      "text/plain": [
       "<matplotlib.collections.PathCollection at 0x1fd16116e08>"
      ]
     },
     "execution_count": 41,
     "metadata": {},
     "output_type": "execute_result"
    },
    {
     "data": {
      "image/png": "[encoded data removed]",
      "text/plain": [
       "<Figure size 432x288 with 1 Axes>"
      ]
     },
     "metadata": {
      "needs_background": "light"
     },
     "output_type": "display_data"
    }
   ],
   "source": [
    "prediction_train = lm.predict(x)\n",
    "plt.scatter(y, prediction_train)"
   ]
  },
  {
   "cell_type": "markdown",
   "metadata": {},
   "source": [
    "## regression Evaluation Metrics"
   ]
  },
  {
   "cell_type": "code",
   "execution_count": 43,
   "metadata": {},
   "outputs": [],
   "source": [
    "from sklearn import metrics"
   ]
  },
  {
   "cell_type": "code",
   "execution_count": 44,
   "metadata": {},
   "outputs": [
    {
     "name": "stdout",
     "output_type": "stream",
     "text": [
      "MAE:  10028.200328336952\n"
     ]
    }
   ],
   "source": [
    "print('MAE: ', metrics.mean_absolute_error(y, prediction_train))"
   ]
  },
  {
   "cell_type": "code",
   "execution_count": 45,
   "metadata": {},
   "outputs": [
    {
     "name": "stdout",
     "output_type": "stream",
     "text": [
      "MSE:  181360724.8434098\n"
     ]
    }
   ],
   "source": [
    "print('MSE: ', metrics.mean_squared_error(y, prediction_train))"
   ]
  },
  {
   "cell_type": "code",
   "execution_count": 46,
   "metadata": {},
   "outputs": [
    {
     "name": "stdout",
     "output_type": "stream",
     "text": [
      "RMSE:  3.2891712515727004e+16\n"
     ]
    }
   ],
   "source": [
    "print('RMSE: ', np.square(metrics.mean_squared_error(y, prediction_train)))"
   ]
  },
  {
   "cell_type": "code",
   "execution_count": 49,
   "metadata": {},
   "outputs": [
    {
     "data": {
      "text/plain": [
       "24.940894443839966"
      ]
     },
     "execution_count": 49,
     "metadata": {},
     "output_type": "execute_result"
    }
   ],
   "source": [
    " 3.2891712515727004*np.e+16"
   ]
  },
  {
   "cell_type": "code",
   "execution_count": 50,
   "metadata": {},
   "outputs": [
    {
     "data": {
      "text/plain": [
       "2.718281828459045"
      ]
     },
     "execution_count": 50,
     "metadata": {},
     "output_type": "execute_result"
    }
   ],
   "source": [
    "np.e"
   ]
  },
  {
   "cell_type": "markdown",
   "metadata": {},
   "source": [
    "## Statsmodel"
   ]
  },
  {
   "cell_type": "code",
   "execution_count": 52,
   "metadata": {},
   "outputs": [],
   "source": [
    "import statsmodels.formula.api as smf"
   ]
  },
  {
   "cell_type": "code",
   "execution_count": 55,
   "metadata": {},
   "outputs": [],
   "source": [
    "lm1 = smf.ols(formula = 'Q(\"Coronavirus Cases\") ~ Q(\"CountryCode\") + Q(\"Population growth\") + Q(\"Total population\") + Q(\"Area (sq. km)\") + Q(\"International Visitors_A\") + Q(\"International Visitors_B\") + Q(\"International Visitors_C\")', data = data_outlier).fit()"
   ]
  },
  {
   "cell_type": "code",
   "execution_count": 56,
   "metadata": {},
   "outputs": [
    {
     "data": {
      "text/plain": [
       "Intercept                         34810.725347\n",
       "Q(\"CountryCode\")                    -14.644359\n",
       "Q(\"Population growth\")            -3909.941425\n",
       "Q(\"Total population\")           -114065.704103\n",
       "Q(\"Area (sq. km)\")               126228.251759\n",
       "Q(\"International Visitors_A\")    154871.492211\n",
       "Q(\"International Visitors_B\")      3198.752906\n",
       "Q(\"International Visitors_C\")    -23032.599688\n",
       "dtype: float64"
      ]
     },
     "execution_count": 56,
     "metadata": {},
     "output_type": "execute_result"
    }
   ],
   "source": [
    "lm1.params"
   ]
  },
  {
   "cell_type": "code",
   "execution_count": 58,
   "metadata": {},
   "outputs": [
    {
     "name": "stderr",
     "output_type": "stream",
     "text": [
      "C:\\Users\\Hmdh\\Anaconda3\\lib\\site-packages\\scipy\\stats\\stats.py:1535: UserWarning: kurtosistest only valid for n>=20 ... continuing anyway, n=13\n",
      "  \"anyway, n=%i\" % int(n))\n"
     ]
    },
    {
     "data": {
      "text/html": [
       "<table class=\"simpletable\">\n",
       "<caption>OLS Regression Results</caption>\n",
       "<tr>\n",
       "  <th>Dep. Variable:</th>    <td>Q(\"Coronavirus Cases\")</td> <th>  R-squared:         </th> <td>   0.966</td>\n",
       "</tr>\n",
       "<tr>\n",
       "  <th>Model:</th>                      <td>OLS</td>          <th>  Adj. R-squared:    </th> <td>   0.919</td>\n",
       "</tr>\n",
       "<tr>\n",
       "  <th>Method:</th>                <td>Least Squares</td>     <th>  F-statistic:       </th> <td>   20.57</td>\n",
       "</tr>\n",
       "<tr>\n",
       "  <th>Date:</th>                <td>Thu, 11 Jun 2020</td>    <th>  Prob (F-statistic):</th>  <td>0.00211</td>\n",
       "</tr>\n",
       "<tr>\n",
       "  <th>Time:</th>                    <td>20:01:48</td>        <th>  Log-Likelihood:    </th> <td> -142.05</td>\n",
       "</tr>\n",
       "<tr>\n",
       "  <th>No. Observations:</th>         <td>    13</td>         <th>  AIC:               </th> <td>   300.1</td>\n",
       "</tr>\n",
       "<tr>\n",
       "  <th>Df Residuals:</th>             <td>     5</td>         <th>  BIC:               </th> <td>   304.6</td>\n",
       "</tr>\n",
       "<tr>\n",
       "  <th>Df Model:</th>                 <td>     7</td>         <th>                     </th>     <td> </td>   \n",
       "</tr>\n",
       "<tr>\n",
       "  <th>Covariance Type:</th>         <td>nonrobust</td>       <th>                     </th>     <td> </td>   \n",
       "</tr>\n",
       "</table>\n",
       "<table class=\"simpletable\">\n",
       "<tr>\n",
       "                <td></td>                   <th>coef</th>     <th>std err</th>      <th>t</th>      <th>P>|t|</th>  <th>[0.025</th>    <th>0.975]</th>  \n",
       "</tr>\n",
       "<tr>\n",
       "  <th>Intercept</th>                     <td> 3.481e+04</td> <td> 2.62e+04</td> <td>    1.328</td> <td> 0.242</td> <td>-3.26e+04</td> <td> 1.02e+05</td>\n",
       "</tr>\n",
       "<tr>\n",
       "  <th>Q(\"CountryCode\")</th>              <td>  -14.6444</td> <td> 2658.317</td> <td>   -0.006</td> <td> 0.996</td> <td>-6848.065</td> <td> 6818.776</td>\n",
       "</tr>\n",
       "<tr>\n",
       "  <th>Q(\"Population growth\")</th>        <td>-3909.9414</td> <td> 1.06e+04</td> <td>   -0.369</td> <td> 0.727</td> <td>-3.12e+04</td> <td> 2.33e+04</td>\n",
       "</tr>\n",
       "<tr>\n",
       "  <th>Q(\"Total population\")</th>         <td>-1.141e+05</td> <td> 6.49e+04</td> <td>   -1.758</td> <td> 0.139</td> <td>-2.81e+05</td> <td> 5.28e+04</td>\n",
       "</tr>\n",
       "<tr>\n",
       "  <th>Q(\"Area (sq. km)\")</th>            <td> 1.262e+05</td> <td> 9.76e+04</td> <td>    1.293</td> <td> 0.252</td> <td>-1.25e+05</td> <td> 3.77e+05</td>\n",
       "</tr>\n",
       "<tr>\n",
       "  <th>Q(\"International Visitors_A\")</th> <td> 1.549e+05</td> <td> 5.05e+04</td> <td>    3.065</td> <td> 0.028</td> <td>  2.5e+04</td> <td> 2.85e+05</td>\n",
       "</tr>\n",
       "<tr>\n",
       "  <th>Q(\"International Visitors_B\")</th> <td> 3198.7529</td> <td> 6.67e+04</td> <td>    0.048</td> <td> 0.964</td> <td>-1.68e+05</td> <td> 1.75e+05</td>\n",
       "</tr>\n",
       "<tr>\n",
       "  <th>Q(\"International Visitors_C\")</th> <td>-2.303e+04</td> <td> 7.42e+04</td> <td>   -0.311</td> <td> 0.769</td> <td>-2.14e+05</td> <td> 1.68e+05</td>\n",
       "</tr>\n",
       "</table>\n",
       "<table class=\"simpletable\">\n",
       "<tr>\n",
       "  <th>Omnibus:</th>       <td> 3.151</td> <th>  Durbin-Watson:     </th> <td>   3.288</td>\n",
       "</tr>\n",
       "<tr>\n",
       "  <th>Prob(Omnibus):</th> <td> 0.207</td> <th>  Jarque-Bera (JB):  </th> <td>   1.044</td>\n",
       "</tr>\n",
       "<tr>\n",
       "  <th>Skew:</th>          <td> 0.624</td> <th>  Prob(JB):          </th> <td>   0.593</td>\n",
       "</tr>\n",
       "<tr>\n",
       "  <th>Kurtosis:</th>      <td> 3.608</td> <th>  Cond. No.          </th> <td>    216.</td>\n",
       "</tr>\n",
       "</table><br/><br/>Warnings:<br/>[1] Standard Errors assume that the covariance matrix of the errors is correctly specified."
      ],
      "text/plain": [
       "<class 'statsmodels.iolib.summary.Summary'>\n",
       "\"\"\"\n",
       "                              OLS Regression Results                              \n",
       "==================================================================================\n",
       "Dep. Variable:     Q(\"Coronavirus Cases\")   R-squared:                       0.966\n",
       "Model:                                OLS   Adj. R-squared:                  0.919\n",
       "Method:                     Least Squares   F-statistic:                     20.57\n",
       "Date:                    Thu, 11 Jun 2020   Prob (F-statistic):            0.00211\n",
       "Time:                            20:01:48   Log-Likelihood:                -142.05\n",
       "No. Observations:                      13   AIC:                             300.1\n",
       "Df Residuals:                           5   BIC:                             304.6\n",
       "Df Model:                               7                                         \n",
       "Covariance Type:                nonrobust                                         \n",
       "=================================================================================================\n",
       "                                    coef    std err          t      P>|t|      [0.025      0.975]\n",
       "-------------------------------------------------------------------------------------------------\n",
       "Intercept                      3.481e+04   2.62e+04      1.328      0.242   -3.26e+04    1.02e+05\n",
       "Q(\"CountryCode\")                -14.6444   2658.317     -0.006      0.996   -6848.065    6818.776\n",
       "Q(\"Population growth\")        -3909.9414   1.06e+04     -0.369      0.727   -3.12e+04    2.33e+04\n",
       "Q(\"Total population\")         -1.141e+05   6.49e+04     -1.758      0.139   -2.81e+05    5.28e+04\n",
       "Q(\"Area (sq. km)\")             1.262e+05   9.76e+04      1.293      0.252   -1.25e+05    3.77e+05\n",
       "Q(\"International Visitors_A\")  1.549e+05   5.05e+04      3.065      0.028     2.5e+04    2.85e+05\n",
       "Q(\"International Visitors_B\")  3198.7529   6.67e+04      0.048      0.964   -1.68e+05    1.75e+05\n",
       "Q(\"International Visitors_C\") -2.303e+04   7.42e+04     -0.311      0.769   -2.14e+05    1.68e+05\n",
       "==============================================================================\n",
       "Omnibus:                        3.151   Durbin-Watson:                   3.288\n",
       "Prob(Omnibus):                  0.207   Jarque-Bera (JB):                1.044\n",
       "Skew:                           0.624   Prob(JB):                        0.593\n",
       "Kurtosis:                       3.608   Cond. No.                         216.\n",
       "==============================================================================\n",
       "\n",
       "Warnings:\n",
       "[1] Standard Errors assume that the covariance matrix of the errors is correctly specified.\n",
       "\"\"\""
      ]
     },
     "execution_count": 58,
     "metadata": {},
     "output_type": "execute_result"
    }
   ],
   "source": [
    "lm1.summary()"
   ]
  },
  {
   "cell_type": "code",
   "execution_count": 59,
   "metadata": {},
   "outputs": [
    {
     "data": {
      "text/html": [
       "<div>\n",
       "<style scoped>\n",
       "    .dataframe tbody tr th:only-of-type {\n",
       "        vertical-align: middle;\n",
       "    }\n",
       "\n",
       "    .dataframe tbody tr th {\n",
       "        vertical-align: top;\n",
       "    }\n",
       "\n",
       "    .dataframe thead th {\n",
       "        text-align: right;\n",
       "    }\n",
       "</style>\n",
       "<table border=\"1\" class=\"dataframe\">\n",
       "  <thead>\n",
       "    <tr style=\"text-align: right;\">\n",
       "      <th></th>\n",
       "      <th>0</th>\n",
       "      <th>1</th>\n",
       "    </tr>\n",
       "  </thead>\n",
       "  <tbody>\n",
       "    <tr>\n",
       "      <th>Intercept</th>\n",
       "      <td>-32576.160148</td>\n",
       "      <td>102197.610842</td>\n",
       "    </tr>\n",
       "    <tr>\n",
       "      <th>Q(\"CountryCode\")</th>\n",
       "      <td>-6848.064704</td>\n",
       "      <td>6818.775985</td>\n",
       "    </tr>\n",
       "    <tr>\n",
       "      <th>Q(\"Population growth\")</th>\n",
       "      <td>-31154.076975</td>\n",
       "      <td>23334.194124</td>\n",
       "    </tr>\n",
       "    <tr>\n",
       "      <th>Q(\"Total population\")</th>\n",
       "      <td>-280884.616962</td>\n",
       "      <td>52753.208757</td>\n",
       "    </tr>\n",
       "    <tr>\n",
       "      <th>Q(\"Area (sq. km)\")</th>\n",
       "      <td>-124681.803309</td>\n",
       "      <td>377138.306827</td>\n",
       "    </tr>\n",
       "    <tr>\n",
       "      <th>Q(\"International Visitors_A\")</th>\n",
       "      <td>24978.276371</td>\n",
       "      <td>284764.708050</td>\n",
       "    </tr>\n",
       "    <tr>\n",
       "      <th>Q(\"International Visitors_B\")</th>\n",
       "      <td>-168192.788572</td>\n",
       "      <td>174590.294384</td>\n",
       "    </tr>\n",
       "    <tr>\n",
       "      <th>Q(\"International Visitors_C\")</th>\n",
       "      <td>-213698.524740</td>\n",
       "      <td>167633.325364</td>\n",
       "    </tr>\n",
       "  </tbody>\n",
       "</table>\n",
       "</div>"
      ],
      "text/plain": [
       "                                           0              1\n",
       "Intercept                      -32576.160148  102197.610842\n",
       "Q(\"CountryCode\")                -6848.064704    6818.775985\n",
       "Q(\"Population growth\")         -31154.076975   23334.194124\n",
       "Q(\"Total population\")         -280884.616962   52753.208757\n",
       "Q(\"Area (sq. km)\")            -124681.803309  377138.306827\n",
       "Q(\"International Visitors_A\")   24978.276371  284764.708050\n",
       "Q(\"International Visitors_B\") -168192.788572  174590.294384\n",
       "Q(\"International Visitors_C\") -213698.524740  167633.325364"
      ]
     },
     "execution_count": 59,
     "metadata": {},
     "output_type": "execute_result"
    }
   ],
   "source": [
    "lm1.conf_int()"
   ]
  },
  {
   "cell_type": "code",
   "execution_count": 60,
   "metadata": {},
   "outputs": [
    {
     "data": {
      "text/plain": [
       "Intercept                        0.241597\n",
       "Q(\"CountryCode\")                 0.995818\n",
       "Q(\"Population growth\")           0.727296\n",
       "Q(\"Total population\")            0.139138\n",
       "Q(\"Area (sq. km)\")               0.252460\n",
       "Q(\"International Visitors_A\")    0.027946\n",
       "Q(\"International Visitors_B\")    0.963593\n",
       "Q(\"International Visitors_C\")    0.768687\n",
       "dtype: float64"
      ]
     },
     "execution_count": 60,
     "metadata": {},
     "output_type": "execute_result"
    }
   ],
   "source": [
    "lm1.pvalues"
   ]
  },
  {
   "cell_type": "markdown",
   "metadata": {},
   "source": [
    "## Ridge Regression"
   ]
  },
  {
   "cell_type": "code",
   "execution_count": 81,
   "metadata": {},
   "outputs": [],
   "source": [
    "#az underfit va overfit shodan jologiri mikone\n",
    "from sklearn.linear_model import Ridge"
   ]
  },
  {
   "cell_type": "code",
   "execution_count": 79,
   "metadata": {},
   "outputs": [
    {
     "data": {
      "text/plain": [
       "Ridge(alpha=1000, copy_X=True, fit_intercept=True, max_iter=None,\n",
       "      normalize=False, random_state=None, solver='auto', tol=0.001)"
      ]
     },
     "execution_count": 79,
     "metadata": {},
     "output_type": "execute_result"
    }
   ],
   "source": [
    "model = Ridge(alpha= 1000)\n",
    "model.fit(x, y)"
   ]
  },
  {
   "cell_type": "code",
   "execution_count": 80,
   "metadata": {},
   "outputs": [
    {
     "name": "stdout",
     "output_type": "stream",
     "text": [
      "RMSE:  2.3980213150049382e+19\n"
     ]
    }
   ],
   "source": [
    "prediction = model.predict(x)\n",
    "print('RMSE: ', np.square(metrics.mean_squared_error(y, prediction)))"
   ]
  },
  {
   "cell_type": "code",
   "execution_count": 68,
   "metadata": {},
   "outputs": [
    {
     "data": {
      "text/plain": [
       "array([-199.15890218,  -26.20024744,    2.18262293,    5.77389983,\n",
       "         37.26470889,  -16.20664348,  -19.20132738])"
      ]
     },
     "execution_count": 68,
     "metadata": {},
     "output_type": "execute_result"
    }
   ],
   "source": [
    "model.coef_"
   ]
  },
  {
   "cell_type": "code",
   "execution_count": null,
   "metadata": {},
   "outputs": [],
   "source": []
  }
 ],
 "metadata": {
  "kernelspec": {
   "display_name": "Python 3",
   "language": "python",
   "name": "python3"
  },
  "language_info": {
   "codemirror_mode": {
    "name": "ipython",
    "version": 3
   },
   "file_extension": ".py",
   "mimetype": "text/x-python",
   "name": "python",
   "nbconvert_exporter": "python",
   "pygments_lexer": "ipython3",
   "version": "3.7.7"
  }
 },
 "nbformat": 4,
 "nbformat_minor": 4
}
